{
  "nbformat": 4,
  "nbformat_minor": 0,
  "metadata": {
    "colab": {
      "provenance": [],
      "collapsed_sections": []
    },
    "kernelspec": {
      "name": "python3",
      "display_name": "Python 3"
    },
    "language_info": {
      "name": "python"
    }
  },
  "cells": [
    {
      "cell_type": "markdown",
      "source": [
        "Author : Shimaa Alaa\n",
        "Code clause (Data Science internShip)"
      ],
      "metadata": {
        "id": "a9MHRcCDwLHp"
      }
    },
    {
      "cell_type": "markdown",
      "source": [
        "# All Importings"
      ],
      "metadata": {
        "id": "3TE6-SrjwZmD"
      }
    },
    {
      "cell_type": "code",
      "source": [
        "import pandas as pd\n",
        "from sklearn.preprocessing import LabelEncoder\n",
        "from sklearn.model_selection import train_test_split\n",
        "from sklearn.linear_model import LogisticRegression\n",
        "from sklearn.metrics import  confusion_matrix,classification_report"
      ],
      "metadata": {
        "id": "6-iygV90wqnP"
      },
      "execution_count": 2,
      "outputs": []
    },
    {
      "cell_type": "markdown",
      "source": [
        "# Load Data & Explore it"
      ],
      "metadata": {
        "id": "v1cEaJAKxahO"
      }
    },
    {
      "cell_type": "code",
      "source": [
        "Data = pd.read_csv(\"/content/drive/MyDrive/ELD Service Provider Segmentation Dataset.csv\")\n",
        "# Explore Dataset\n",
        "print(Data.info())"
      ],
      "metadata": {
        "colab": {
          "base_uri": "https://localhost:8080/"
        },
        "id": "KXylW3zcxfG8",
        "outputId": "5dd6ea58-f71f-4085-8abf-c8360afde18f"
      },
      "execution_count": 4,
      "outputs": [
        {
          "output_type": "stream",
          "name": "stdout",
          "text": [
            "<class 'pandas.core.frame.DataFrame'>\n",
            "RangeIndex: 2333 entries, 0 to 2332\n",
            "Data columns (total 6 columns):\n",
            " #   Column                 Non-Null Count  Dtype  \n",
            "---  ------                 --------------  -----  \n",
            " 0   Segment                2333 non-null   object \n",
            " 1   Territory              2333 non-null   object \n",
            " 2   Customer Date          2333 non-null   object \n",
            " 3   Net ARR                2332 non-null   float64\n",
            " 4   Composite Fleet Size   2333 non-null   int64  \n",
            " 5   Number of ELD Devices  2331 non-null   float64\n",
            "dtypes: float64(2), int64(1), object(3)\n",
            "memory usage: 109.5+ KB\n",
            "None\n"
          ]
        }
      ]
    },
    {
      "cell_type": "markdown",
      "source": [
        "# Data Preprocessing"
      ],
      "metadata": {
        "id": "mFk2c7Zaxkts"
      }
    },
    {
      "cell_type": "code",
      "source": [
        " # 1/ Cleaning the data from Missing values\n",
        "print(\"\\n Missing values : \")\n",
        "print(Data.isna().sum())\n",
        "Data.dropna(axis =0 , inplace=True)\n",
        "\n",
        "# 2/ Check duplicates\n",
        "print(\"\\n Duplicates  :\")\n",
        "print(Data.duplicated().sum())\n",
        "\n",
        "# 3/ Encoding Data\n",
        "labelencoder=LabelEncoder()\n",
        "Data['Territory'] = labelencoder.fit_transform(Data['Territory'])\n",
        "Data['Segment'] = labelencoder.fit_transform(Data['Segment'])\n",
        "\n",
        "\n",
        "# 4/ Removing Unwanted columns\n",
        "print(\"\\n\",Data.corr(),\"\\n\")\n",
        "Data.drop(columns= \"Customer Date\", inplace=True)\n",
        "\n",
        "print(Data.head())"
      ],
      "metadata": {
        "colab": {
          "base_uri": "https://localhost:8080/"
        },
        "id": "ndoZYy5vxrXM",
        "outputId": "0627a00f-203d-4994-ef98-fa6fa877be1e"
      },
      "execution_count": 5,
      "outputs": [
        {
          "output_type": "stream",
          "name": "stdout",
          "text": [
            "\n",
            " Missing values : \n",
            "Segment                  0\n",
            "Territory                0\n",
            "Customer Date            0\n",
            "Net ARR                  1\n",
            "Composite Fleet Size     0\n",
            "Number of ELD Devices    2\n",
            "dtype: int64\n",
            "\n",
            " Duplicates  :\n",
            "0\n",
            "\n",
            "                         Segment  Territory   Net ARR  Composite Fleet Size  \\\n",
            "Segment                1.000000  -0.024278  0.261434              0.143073   \n",
            "Territory             -0.024278   1.000000  0.052178              0.056903   \n",
            "Net ARR                0.261434   0.052178  1.000000              0.486156   \n",
            "Composite Fleet Size   0.143073   0.056903  0.486156              1.000000   \n",
            "Number of ELD Devices  0.274427   0.042400  0.935234              0.548331   \n",
            "\n",
            "                       Number of ELD Devices  \n",
            "Segment                             0.274427  \n",
            "Territory                           0.042400  \n",
            "Net ARR                             0.935234  \n",
            "Composite Fleet Size                0.548331  \n",
            "Number of ELD Devices               1.000000   \n",
            "\n",
            "   Segment  Territory   Net ARR  Composite Fleet Size  Number of ELD Devices\n",
            "0        1         24    4200.0                   289                   10.0\n",
            "1        1         16  256212.0                  1200                  777.0\n",
            "2        1         24  412260.0                 11000                 1437.0\n",
            "3        1          5   35184.0                    94                  113.0\n",
            "4        1         27  369480.0                   650                  708.0\n"
          ]
        }
      ]
    },
    {
      "cell_type": "markdown",
      "source": [
        "# Modeling"
      ],
      "metadata": {
        "id": "gzwMpu0Ox13x"
      }
    },
    {
      "cell_type": "code",
      "source": [
        " # 1/ Splitting data\n",
        "# X --> features , Y --> Label\n",
        "\n",
        "X = Data.drop(columns='Segment')\n",
        "Y = Data.Segment\n",
        "\n",
        "  # ** Split Features & Label to train and test\n",
        "X_train, X_test, y_train, y_test = train_test_split(X, Y, test_size = 0.20,  shuffle= True ,random_state= 1 )\n",
        " "
      ],
      "metadata": {
        "id": "gqpcrVEFx8WC"
      },
      "execution_count": 6,
      "outputs": []
    },
    {
      "cell_type": "code",
      "source": [
        " # 2/ Calling Logistic regression\n",
        "log_reg = LogisticRegression()\n",
        "\n",
        "  # 3/ Train data\n",
        "log_reg.fit(X_train, y_train)"
      ],
      "metadata": {
        "colab": {
          "base_uri": "https://localhost:8080/"
        },
        "id": "yi6dSrq1x_70",
        "outputId": "21c6ced7-952e-4516-ecc9-63f31a8c25db"
      },
      "execution_count": 7,
      "outputs": [
        {
          "output_type": "stream",
          "name": "stderr",
          "text": [
            "/usr/local/lib/python3.7/dist-packages/sklearn/linear_model/_logistic.py:818: ConvergenceWarning: lbfgs failed to converge (status=1):\n",
            "STOP: TOTAL NO. of ITERATIONS REACHED LIMIT.\n",
            "\n",
            "Increase the number of iterations (max_iter) or scale the data as shown in:\n",
            "    https://scikit-learn.org/stable/modules/preprocessing.html\n",
            "Please also refer to the documentation for alternative solver options:\n",
            "    https://scikit-learn.org/stable/modules/linear_model.html#logistic-regression\n",
            "  extra_warning_msg=_LOGISTIC_SOLVER_CONVERGENCE_MSG,\n"
          ]
        },
        {
          "output_type": "execute_result",
          "data": {
            "text/plain": [
              "LogisticRegression()"
            ]
          },
          "metadata": {},
          "execution_count": 7
        }
      ]
    },
    {
      "cell_type": "code",
      "source": [
        " # 4/ Predict\n",
        "y_pred = log_reg.predict(X_test)\n",
        "\n",
        " # Confisuion Matrix\n",
        "#print(confusion_matrix(y_test, y_pred))\n",
        "# 5/ Report\n",
        "report = classification_report(y_test, y_pred)\n",
        "print('report:', report, sep='\\n')\n"
      ],
      "metadata": {
        "colab": {
          "base_uri": "https://localhost:8080/"
        },
        "id": "NtMqrM8ZyHZr",
        "outputId": "e2e9fa5b-5be3-4d54-b870-bc3a5394dff9"
      },
      "execution_count": 8,
      "outputs": [
        {
          "output_type": "stream",
          "name": "stdout",
          "text": [
            "report:\n",
            "              precision    recall  f1-score   support\n",
            "\n",
            "           0       0.86      0.82      0.84       309\n",
            "           1       0.44      0.47      0.45        15\n",
            "           2       0.65      0.72      0.68       143\n",
            "\n",
            "    accuracy                           0.78       467\n",
            "   macro avg       0.65      0.67      0.66       467\n",
            "weighted avg       0.79      0.78      0.78       467\n",
            "\n"
          ]
        }
      ]
    },
    {
      "cell_type": "markdown",
      "source": [
        "Accuracy in 20% of data to Test ----> 78%"
      ],
      "metadata": {
        "id": "hHwUKiE6yMev"
      }
    },
    {
      "cell_type": "markdown",
      "source": [],
      "metadata": {
        "id": "3ET-s_WrwJ66"
      }
    }
  ]
}